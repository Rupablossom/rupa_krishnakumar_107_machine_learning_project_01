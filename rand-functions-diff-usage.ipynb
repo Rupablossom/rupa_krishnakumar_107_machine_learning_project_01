{
 "cells": [
  {
   "cell_type": "code",
   "execution_count": 2,
   "id": "a97d7c51-6bc4-4dd7-bf69-2210fbcae0b4",
   "metadata": {},
   "outputs": [
    {
     "name": "stdout",
     "output_type": "stream",
     "text": [
      "+----+-------------+---------------+--------------+---------------------------------------------------------------------------------------------------------------------------------------------------------------------------------------+\n",
      "|    | Category    | Function      | Kind Types   | Usage                                                                                                                                                                                 |\n",
      "+====+=============+===============+==============+=======================================================================================================================================================================================+\n",
      "|  0 | Relational  | sns.relplot() | scatter      | Used to visualize relationships between two numerical variables, useful for identifying trends and clusters. Example: Analyzing correlation between advertisement spending and sales. |\n",
      "+----+-------------+---------------+--------------+---------------------------------------------------------------------------------------------------------------------------------------------------------------------------------------+\n",
      "|  1 | Relational  | sns.relplot() | line         | Suitable for time-series data, showing how a variable changes over time. Example: Stock market trends over months.                                                                    |\n",
      "+----+-------------+---------------+--------------+---------------------------------------------------------------------------------------------------------------------------------------------------------------------------------------+\n",
      "|  2 | Categorical | sns.catplot() | strip        | Displays individual observations along a categorical axis, useful for checking data spread. Example: Student test scores per class.                                                   |\n",
      "+----+-------------+---------------+--------------+---------------------------------------------------------------------------------------------------------------------------------------------------------------------------------------+\n",
      "|  3 | Categorical | sns.catplot() | swarm        | Similar to a strip plot but avoids overlapping, making it clearer for medium datasets. Example: Distribution of salaries across different job roles.                                  |\n",
      "+----+-------------+---------------+--------------+---------------------------------------------------------------------------------------------------------------------------------------------------------------------------------------+\n",
      "|  4 | Categorical | sns.catplot() | box          | Summarizes distributions using quartiles and outliers, good for detecting skewness and outliers. Example: Comparing house prices in different cities.                                 |\n",
      "+----+-------------+---------------+--------------+---------------------------------------------------------------------------------------------------------------------------------------------------------------------------------------+\n",
      "|  5 | Categorical | sns.catplot() | violin       | Combines box plot with a density estimate, showing the distribution shape more effectively. Example: Analyzing distribution of patient wait times in a hospital.                      |\n",
      "+----+-------------+---------------+--------------+---------------------------------------------------------------------------------------------------------------------------------------------------------------------------------------+\n",
      "|  6 | Categorical | sns.catplot() | boxen        | Optimized for large datasets, provides more granularity in the distribution. Example: Evaluating income distribution across different demographics.                                   |\n",
      "+----+-------------+---------------+--------------+---------------------------------------------------------------------------------------------------------------------------------------------------------------------------------------+\n",
      "|  7 | Categorical | sns.catplot() | point        | Shows mean values with confidence intervals, ideal for trend comparison across categories. Example: Average customer satisfaction scores per service type.                            |\n",
      "+----+-------------+---------------+--------------+---------------------------------------------------------------------------------------------------------------------------------------------------------------------------------------+\n",
      "|  8 | Categorical | sns.catplot() | bar          | Displays mean values for each category, commonly used for comparative analysis. Example: Sales performance of different product categories.                                           |\n",
      "+----+-------------+---------------+--------------+---------------------------------------------------------------------------------------------------------------------------------------------------------------------------------------+\n",
      "|  9 | Categorical | sns.catplot() | count        | Counts occurrences of each category, useful for frequency analysis. Example: Number of users in different age groups for a mobile app.                                                |\n",
      "+----+-------------+---------------+--------------+---------------------------------------------------------------------------------------------------------------------------------------------------------------------------------------+\n"
     ]
    }
   ],
   "source": [
    "# Creating a DataFrame to represent the summary table\n",
    "# Creating a DataFrame to represent the summary table\n",
    "from tabulate import tabulate  # Importing tabulate for better table formatting\n",
    "import pandas as pd  # Importing pandas to create a table\n",
    "summary_table = pd.DataFrame({\n",
    "    \"Category\": [\"Relational\", \"Relational\", \"Categorical\", \"Categorical\", \"Categorical\", \"Categorical\", \"Categorical\", \"Categorical\", \"Categorical\", \"Categorical\"],\n",
    "    \"Function\": [\"sns.relplot()\", \"sns.relplot()\", \"sns.catplot()\", \"sns.catplot()\", \"sns.catplot()\", \"sns.catplot()\", \"sns.catplot()\", \"sns.catplot()\", \"sns.catplot()\", \"sns.catplot()\"],\n",
    "    \"Kind Types\": [\"scatter\", \"line\", \"strip\", \"swarm\", \"box\", \"violin\", \"boxen\", \"point\", \"bar\", \"count\"],\n",
    "    \"Usage\": [\n",
    "        \"Used to visualize relationships between two numerical variables, useful for identifying trends and clusters. Example: Analyzing correlation between advertisement spending and sales.\",\n",
    "        \"Suitable for time-series data, showing how a variable changes over time. Example: Stock market trends over months.\",\n",
    "        \"Displays individual observations along a categorical axis, useful for checking data spread. Example: Student test scores per class.\",\n",
    "        \"Similar to a strip plot but avoids overlapping, making it clearer for medium datasets. Example: Distribution of salaries across different job roles.\",\n",
    "        \"Summarizes distributions using quartiles and outliers, good for detecting skewness and outliers. Example: Comparing house prices in different cities.\",\n",
    "        \"Combines box plot with a density estimate, showing the distribution shape more effectively. Example: Analyzing distribution of patient wait times in a hospital.\",\n",
    "        \"Optimized for large datasets, provides more granularity in the distribution. Example: Evaluating income distribution across different demographics.\",\n",
    "        \"Shows mean values with confidence intervals, ideal for trend comparison across categories. Example: Average customer satisfaction scores per service type.\",\n",
    "        \"Displays mean values for each category, commonly used for comparative analysis. Example: Sales performance of different product categories.\",\n",
    "        \"Counts occurrences of each category, useful for frequency analysis. Example: Number of users in different age groups for a mobile app.\"\n",
    "    ]\n",
    "})\n",
    "\n",
    "# Printing the summary table in a formatted way\n",
    "print(tabulate(summary_table, headers='keys', tablefmt='grid'))"
   ]
  }
 ],
 "metadata": {
  "kernelspec": {
   "display_name": "Python 3 (ipykernel)",
   "language": "python",
   "name": "python3"
  },
  "language_info": {
   "codemirror_mode": {
    "name": "ipython",
    "version": 3
   },
   "file_extension": ".py",
   "mimetype": "text/x-python",
   "name": "python",
   "nbconvert_exporter": "python",
   "pygments_lexer": "ipython3",
   "version": "3.12.7"
  }
 },
 "nbformat": 4,
 "nbformat_minor": 5
}
